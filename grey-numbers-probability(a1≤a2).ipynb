{
 "cells": [
  {
   "cell_type": "markdown",
   "metadata": {},
   "source": [
    "[![Open In Colab](https://colab.research.google.com/assets/colab-badge.svg)](https://colab.research.google.com/github/liviucotfas/grey-systems-book/blob/main/grey-supplier-selection.ipynb)"
   ]
  },
  {
   "cell_type": "markdown",
   "metadata": {},
   "source": [
    "Note: the `GreyNumber` class is used for representing grey numbers, while the `probability` function is used for computing the probability that a1 ≤ a2."
   ]
  },
  {
   "cell_type": "code",
   "execution_count": null,
   "metadata": {},
   "outputs": [],
   "source": [
    "class GreyNumber(object):\n",
    "    def __init__ (self, low, up):\n",
    "        self.low = low\n",
    "        self.up = up"
   ]
  },
  {
   "cell_type": "code",
   "execution_count": null,
   "metadata": {},
   "outputs": [],
   "source": [
    "def probability_lower_or_equal(a1 : GreyNumber, a2 : GreyNumber) -> float:\n",
    "    '''returns the probability that a1 ≤ a2'''\n",
    "    if a1.low > a2.up:\n",
    "        print(\"a1.low > a2.up\")\n",
    "        return 0\n",
    "    elif a1.low < a2.low <= a1.up <= a2.up: #a1.low < a2.low < a1.up < a2.up\n",
    "        print(\"a1.low < a2.low <= a1.up <= a2.up\")\n",
    "        return 1 - (a1.up - a2.low)**2 / (2 * (a1.up - a1.low) * (a2.up - a2.low))\n",
    "    elif a2.low < a1.low < a2.up < a1.up:\n",
    "        print(\"a2.low < a1.low < a2.up < a1.up\")\n",
    "        return (a2.up-a1.low)**2 / (2 * (a1.up - a1.low) * (a2.up - a2.low))\n",
    "    elif a2.low < a1.low < a1.up < a2.up:\n",
    "        print(\"a2.low < a1.low < a1.up < a2.up\")\n",
    "        return (2 * a2.up - a1.low - a1.up) * (a1.up - a1.low) / (2 * (a1.up - a1.low) * (a2.up - a2.low))\n",
    "    elif a1.low < a2.low < a2.up < a1.up:\n",
    "        print(\"a1.low < a2.low < a2.up < a1.up\")\n",
    "        return (a2.up + a2.low - 2 * a1.low) * (a2.up - a2.low) / (2 * (a1.up - a1.low) * (a2.up - a2.low))\n",
    "    elif a1.low == a2.low and a1.up == a2.up:\n",
    "        print(\"a1.low == a2.low and a1.up == a2.up\")\n",
    "        return 0.5\n",
    "    elif a2.low > a1.up:\n",
    "        print(\"a2.low > a1.up\")\n",
    "        return 1\n",
    "    else:\n",
    "        raise Exception(\"Sorry, this case is not supported\")"
   ]
  },
  {
   "cell_type": "markdown",
   "metadata": {},
   "source": [
    "Compare (≤) any two grey numbers (a1 and a2) by modifying the values below."
   ]
  },
  {
   "cell_type": "code",
   "execution_count": null,
   "metadata": {},
   "outputs": [
    {
     "data": {
      "text/plain": [
       "0.875"
      ]
     },
     "execution_count": 16,
     "metadata": {},
     "output_type": "execute_result"
    }
   ],
   "source": [
    "a1 = GreyNumber(2, 4) # change these values\n",
    "a2 = GreyNumber(3, 5) # change these values\n",
    "# a1 ≤ a2\n",
    "probability_lower_or_equal(a1, a2)"
   ]
  }
 ],
 "metadata": {
  "kernelspec": {
   "display_name": "Python 3.8.13 ('base')",
   "language": "python",
   "name": "python3"
  },
  "language_info": {
   "codemirror_mode": {
    "name": "ipython",
    "version": 3
   },
   "file_extension": ".py",
   "mimetype": "text/x-python",
   "name": "python",
   "nbconvert_exporter": "python",
   "pygments_lexer": "ipython3",
   "version": "3.8.13"
  },
  "orig_nbformat": 4,
  "vscode": {
   "interpreter": {
    "hash": "6cd698982fe8a1411a50998c32fff066b365446a57c43037916d7e5212929cf2"
   }
  }
 },
 "nbformat": 4,
 "nbformat_minor": 2
}
