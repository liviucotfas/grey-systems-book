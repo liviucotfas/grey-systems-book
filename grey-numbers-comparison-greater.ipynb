{
 "cells": [
  {
   "cell_type": "markdown",
   "metadata": {},
   "source": [
    "[![Open In Colab](https://colab.research.google.com/assets/colab-badge.svg)](http://colab.research.google.com/github/liviucotfas/grey-systems-book/blob/main/grey-numbers-comparison-greater.ipynb)"
   ]
  },
  {
   "cell_type": "markdown",
   "metadata": {},
   "source": [
    "Note: the `GreyNumber` class is used for representing grey numbers, while the `probability` function is used for computing the probability that a > b."
   ]
  },
  {
   "cell_type": "code",
   "execution_count": 1,
   "metadata": {},
   "outputs": [],
   "source": [
    "class GreyNumber(object):\n",
    "    def __init__ (self, low, up):\n",
    "        self.low = low\n",
    "        self.up = up"
   ]
  },
  {
   "cell_type": "code",
   "execution_count": 2,
   "metadata": {},
   "outputs": [],
   "source": [
    "def probability_greater(a : GreyNumber, b : GreyNumber) -> float:\n",
    "    '''returns the probability that a > b'''\n",
    "    if a.low > b.up:\n",
    "        print(\"a.low > b.up\")\n",
    "        return 1\n",
    "    elif b.low > a.up:\n",
    "        print(\"b.low > a.up\")\n",
    "        return 0\n",
    "    elif a.low < b.low < a.up < b.up:\n",
    "        print(\"a.low < b.low < a.up < b.up\")\n",
    "        return (a.up-b.low)**2 / (2 * (a.up - a.low) * (b.up - b.low))\n",
    "    elif b.low < a.low < b.up < a.up:\n",
    "        print(\"b.low < a.low < b.up < a.up\")\n",
    "        return (1 - (b.up - a.low)**2) / (2 * (a.up - a.low) * (b.up - b.low))\n",
    "    elif b.low < a.low < a.up < b.up:\n",
    "        print(\"b.low < a.low < a.up < b.up\")\n",
    "        return (a.low + a.up - 2 * b.low)  / (2 * (b.up - b.low))\n",
    "    elif a.low < b.low < b.up < a.up:\n",
    "        print(\"a.low < b.low < a.up < b.up\")    \n",
    "        return (2 * a.up - b.up - b.low) / (2 * (a.up - a.low))\n",
    "    else:\n",
    "        raise Exception(\"Sorry, this case is not supported\")"
   ]
  },
  {
   "cell_type": "markdown",
   "metadata": {},
   "source": [
    "Compare (≤) any two grey numbers (a1 and a2) by modifying the values below."
   ]
  },
  {
   "cell_type": "code",
   "execution_count": 3,
   "metadata": {},
   "outputs": [
    {
     "name": "stdout",
     "output_type": "stream",
     "text": [
      "a.low < b.low < a.up < b.up\n"
     ]
    },
    {
     "data": {
      "text/plain": [
       "0.125"
      ]
     },
     "execution_count": 3,
     "metadata": {},
     "output_type": "execute_result"
    }
   ],
   "source": [
    "a = GreyNumber(2, 4) # change these values\n",
    "b = GreyNumber(3, 5) # change these values\n",
    "# a > b\n",
    "probability_greater(a, b)"
   ]
  }
 ],
 "metadata": {
  "kernelspec": {
   "display_name": "Python 3.8.13 ('base')",
   "language": "python",
   "name": "python3"
  },
  "language_info": {
   "codemirror_mode": {
    "name": "ipython",
    "version": 3
   },
   "file_extension": ".py",
   "mimetype": "text/x-python",
   "name": "python",
   "nbconvert_exporter": "python",
   "pygments_lexer": "ipython3",
   "version": "3.8.13"
  },
  "orig_nbformat": 4,
  "vscode": {
   "interpreter": {
    "hash": "6cd698982fe8a1411a50998c32fff066b365446a57c43037916d7e5212929cf2"
   }
  }
 },
 "nbformat": 4,
 "nbformat_minor": 2
}
