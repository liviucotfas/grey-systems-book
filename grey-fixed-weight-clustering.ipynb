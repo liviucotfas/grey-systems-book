{
 "cells": [
  {
   "cell_type": "markdown",
   "metadata": {},
   "source": [
    "This notebook implements the code required for performing \"grey fixed weight clustering\".\n",
    "\n",
    "[![Open In Colab](https://colab.research.google.com/assets/colab-badge.svg)](http://colab.research.google.com/github/liviucotfas/grey-systems-book/blob/main/grey-fixed-weight-clustering.ipynb)\n",
    "\n",
    "Note: the implementation has been inspired by the one in the \"Grey Modeling Software (version 6)\"."
   ]
  },
  {
   "cell_type": "markdown",
   "metadata": {},
   "source": [
    "## Load the Excel file with the necessary data"
   ]
  },
  {
   "cell_type": "markdown",
   "metadata": {},
   "source": [
    "**Step 1:** Download the Excel template and adjust the object parameters (Sheet 1), the whitenization weight functions (Sheet 2) and the weight of parameters (Sheet 3). The template is available at: https://github.com/liviucotfas/grey-systems-book/raw/main/grey-fixed-weight-clustering-template.xls .\n",
    "\n",
    "Note: if you only wish to test this notebook, you can leave the default values in the Excel file."
   ]
  },
  {
   "cell_type": "markdown",
   "metadata": {},
   "source": [
    "**Step 2:** If using **Google Colab** please upload the Excel file that you have downloaded at **Step 1**, when asked. Otherwise, if running locally, please set the path towards the Excel file in the `file_name` variable.\n",
    "\n",
    "Note: if you get an error related to the version of the `xlrd` library while running the code below, please uncomment the first line of the cell `!pip install --upgrade xlrd`."
   ]
  },
  {
   "cell_type": "code",
   "execution_count": 1,
   "metadata": {},
   "outputs": [],
   "source": [
    "import pandas as pd"
   ]
  },
  {
   "cell_type": "code",
   "execution_count": 2,
   "metadata": {},
   "outputs": [],
   "source": [
    "# !pip install --upgrade xlrd # Uncomment this line if you get an error related to xlrd while running this cell.\n",
    "\n",
    "if 'google.colab' in str(get_ipython()): # Check if the code is running in Google Colab.\n",
    "    from google.colab import files\n",
    "    uploaded = files.upload()\n",
    "    file_name = list(uploaded.keys())[0]\n",
    "else: # The notebook is running locally\n",
    "    file_name = \"https://github.com/liviucotfas/grey-systems-book/raw/main/grey-fixed-weight-clustering-template.xls\"\n",
    "\n",
    "df_objects = pd.read_excel(file_name) # Object parameters\n",
    "df_white_weight_functions = pd.read_excel(file_name, \"Sheet2\") # Whitenization weight functions \n",
    "df_ratios = pd.read_excel(file_name, \"Sheet3\") # Weights of the parameters"
   ]
  },
  {
   "cell_type": "markdown",
   "metadata": {},
   "source": [
    "**Step 3:** You can check below if the values for the object parameters (Sheet 1), the whitenization weight functions (Sheet 2) and the weight of parameters (Sheet 3) have been loaded correctly."
   ]
  },
  {
   "cell_type": "markdown",
   "metadata": {},
   "source": [
    "(Sheet 1) Sequence of object parameters' values"
   ]
  },
  {
   "cell_type": "code",
   "execution_count": 3,
   "metadata": {},
   "outputs": [
    {
     "name": "stdout",
     "output_type": "stream",
     "text": [
      "   Object\\Parameter  Parameter1  Parameter2  Parameter3  Parameter4\n",
      "0           Object1       22.50         4.0           0        0.00\n",
      "1           Object2       79.37         6.0         600        0.75\n",
      "2           Object3      144.00         7.0         300        0.75\n",
      "3           Object4      300.00         6.1         189       12.00\n",
      "4           Object5      456.00        12.0         250       12.00\n",
      "5           Object6      189.00         8.0         700        1.50\n",
      "6           Object7      369.00         8.0        1300        2.25\n",
      "7           Object8     1127.11        16.2         550        3.00\n",
      "8           Object9      260.00        11.0         600        1.00\n",
      "9          Object10      200.00         8.0         600        1.25\n",
      "10         Object11      475.00        10.0        1000        0.75\n",
      "11         Object12      314.10         8.0         900        0.75\n",
      "12         Object13      282.80         7.4        1300        0.50\n",
      "13         Object14      240.00         8.0        1200        0.50\n",
      "14         Object15      160.00         5.0        1000        0.25\n",
      "15         Object16      270.00         8.0        1200        0.25\n",
      "16         Object17        9.00         1.0         200        0.00\n"
     ]
    }
   ],
   "source": [
    "print(df_objects)"
   ]
  },
  {
   "cell_type": "markdown",
   "metadata": {},
   "source": [
    "(Sheet 2) Whitenization weight functions"
   ]
  },
  {
   "cell_type": "code",
   "execution_count": 4,
   "metadata": {},
   "outputs": [
    {
     "name": "stdout",
     "output_type": "stream",
     "text": [
      "  Whitenization weight function\\Parameter    Parameter1 Parameter2  \\\n",
      "0          Whitenization weight function1   100,300,-,-   3,10,-,-   \n",
      "1          Whitenization weight function2  50,150,-,250   2,6,-,10   \n",
      "2          Whitenization weight function3    -,-,50,100    -,-,4,8   \n",
      "\n",
      "       Parameter3     Parameter4  \n",
      "0    200,1000,-,-  0.25,1.25,-,-  \n",
      "1  100,600,-,1100      0,0.5,-,1  \n",
      "2     -,-,300,600   -,-,0.25,0.5  \n"
     ]
    }
   ],
   "source": [
    "print(df_white_weight_functions)"
   ]
  },
  {
   "cell_type": "markdown",
   "metadata": {},
   "source": [
    "(Sheet 3) Weight of parameters"
   ]
  },
  {
   "cell_type": "code",
   "execution_count": 5,
   "metadata": {},
   "outputs": [
    {
     "name": "stdout",
     "output_type": "stream",
     "text": [
      "  Weight\\Parameter  Parameter1  Parameter2  Parameter3  Parameter4\n",
      "0           Weight         0.3        0.25        0.25         0.2\n"
     ]
    }
   ],
   "source": [
    "print(df_ratios)"
   ]
  },
  {
   "cell_type": "markdown",
   "metadata": {},
   "source": [
    "**Step 4:** The results will be displayed in the **Output** section below (located after the **Implementation** section)."
   ]
  },
  {
   "cell_type": "markdown",
   "metadata": {},
   "source": [
    "## Implementation"
   ]
  },
  {
   "cell_type": "code",
   "execution_count": 6,
   "metadata": {},
   "outputs": [
    {
     "data": {
      "text/plain": [
       "0"
      ]
     },
     "execution_count": 6,
     "metadata": {},
     "output_type": "execute_result"
    }
   ],
   "source": [
    "class WhitenizationWeightFunction(object):\n",
    "    \"\"\"Class used for representing whitenization weight functions.\"\"\"\n",
    "\n",
    "    def __init__ (self, function_as_string : str):\n",
    "        # Split the string into turning points\n",
    "        self.turning_points = function_as_string.split(\",\")\n",
    "        # Validate the number of turning points\n",
    "        if len(self.turning_points) != 4:\n",
    "            raise ValueError(\"The string should contain 4 turning points separated by `,`: x,x,x,x\")\n",
    "        # Strip any white spaces \n",
    "        self.turning_points = list(map(lambda s:s.strip(), self.turning_points))\n",
    "    def __call__(self, value : float) -> float:\n",
    "        # 1. Whitenization weight function of lower measure\n",
    "        if self.turning_points[0] == \"-\" and self.turning_points[1] == \"-\" and self.turning_points[2] != \"-\" and self.turning_points[3] != \"-\":\n",
    "            return self.type1(value)\n",
    "        # 2. Whitenization weight function of upper measure\n",
    "        elif self.turning_points[0] != \"-\" and self.turning_points[2] == \"-\" and self.turning_points[3] == \"-\":\n",
    "            return self.type2(value)\n",
    "        # 3. Whitenization weight function of moderate measure\n",
    "        elif self.turning_points[0] != \"-\" and self.turning_points[1] != \"-\" and self.turning_points[2] == \"-\" and self.turning_points[3] != \"-\":\n",
    "            return self.type3(value)\n",
    "        # 4. Typical whitenization weight function\n",
    "        elif self.turning_points[0] != \"-\" and self.turning_points[1] != \"-\" and self.turning_points[2] != \"-\" and self.turning_points[3] != \"-\":\n",
    "            return self.type4(value)\n",
    "        else:\n",
    "            raise ValueError()            \n",
    "    def type1(self, value):\n",
    "        if value < 0.0 or value > float(self.turning_points[3]):\n",
    "            return 0.0\n",
    "        elif value < float(self.turning_points[2]) and value >= 0.0:\n",
    "            return 1.0\n",
    "        elif value >= float(self.turning_points[2]) and value < float(self.turning_points[3]):\n",
    "            return (float(self.turning_points[3]) - value) / (float(self.turning_points[3]) - float(self.turning_points[2]));\n",
    "        else:\n",
    "            return 0\n",
    "    def type2(self, value):\n",
    "        if value < float(self.turning_points[0]):\n",
    "            return 0.0\n",
    "        elif value >= float(self.turning_points[0]) and value < float(self.turning_points[1]):\n",
    "            return (value - float(self.turning_points[0])) / (float(self.turning_points[1]) - float(self.turning_points[0]));\n",
    "        elif value >= float(self.turning_points[1]):\n",
    "            return 1.0\n",
    "        else:\n",
    "            return 0\n",
    "    def type3(self, value):\n",
    "        if value < float(self.turning_points[0]) or value > float(self.turning_points[3]):\n",
    "            return 0\n",
    "        elif value >= float(self.turning_points[0]) and value < float(self.turning_points[1]):\n",
    "            return (value - float(self.turning_points[0])) / (float(self.turning_points[1]) - float(self.turning_points[0]))\n",
    "        elif value >= float(self.turning_points[1]) and value <= float(self.turning_points[3]):\n",
    "            return (float(self.turning_points[3]) - value) / (float(self.turning_points[3]) - float(self.turning_points[1]))\n",
    "        else:\n",
    "            return 0\n",
    "    def type4(self, value):\n",
    "        if value < float(self.turning_points[0]) or value > float(self.turning_points[3]):\n",
    "            return 0\n",
    "        elif value >= float(self.turning_points[0]) and value <= float(self.turning_points[1]):\n",
    "            return (value - float(self.turning_points[0])) / (float(self.turning_points[1]) - float(self.turning_points[0]));\n",
    "        elif value >= float(self.turning_points[1]) and value < float(self.turning_points[2]):\n",
    "            return 1\n",
    "        elif value >= float(self.turning_points[2]) and value <= float(self.turning_points[3]):\n",
    "            return (float(self.turning_points[3]) - value) / (float(self.turning_points[3]) - float(self.turning_points[2]))\n",
    "        else:\n",
    "            return 0\n",
    "##text = \"-,-,841,859\"\n",
    "##f1 =  WhitenizationWeightFunction(text)\n",
    "##f1(5)\n",
    "text = \"-,-,300,600\"\n",
    "f1 =  WhitenizationWeightFunction(text)\n",
    "f1(600)"
   ]
  },
  {
   "cell_type": "code",
   "execution_count": 7,
   "metadata": {},
   "outputs": [],
   "source": [
    "# Starting from the df_white_weight_functions create a list of lists holding WhitenizationWeightFunction \n",
    "whitenization_weight_functions = []\n",
    "for i in range(df_white_weight_functions.shape[0]):\n",
    "    whitenization_weight_functions.append([])\n",
    "    for j in range(df_white_weight_functions.shape[1] - 1):\n",
    "        function_as_string = df_white_weight_functions.iloc[i, j+1]\n",
    "        whitenization_weight_functions[i].append(WhitenizationWeightFunction(function_as_string))"
   ]
  },
  {
   "cell_type": "code",
   "execution_count": 8,
   "metadata": {},
   "outputs": [
    {
     "data": {
      "text/plain": [
       "17"
      ]
     },
     "execution_count": 8,
     "metadata": {},
     "output_type": "execute_result"
    }
   ],
   "source": [
    "no_of_obj = len(df_objects)\n",
    "no_of_obj #length1"
   ]
  },
  {
   "cell_type": "code",
   "execution_count": 9,
   "metadata": {},
   "outputs": [
    {
     "data": {
      "text/plain": [
       "4"
      ]
     },
     "execution_count": 9,
     "metadata": {},
     "output_type": "execute_result"
    }
   ],
   "source": [
    "no_of_param = len(df_objects.columns) - 1 # -1 because the first column includes the names\n",
    "no_of_param #length2"
   ]
  },
  {
   "cell_type": "code",
   "execution_count": 10,
   "metadata": {},
   "outputs": [
    {
     "data": {
      "text/plain": [
       "3"
      ]
     },
     "execution_count": 10,
     "metadata": {},
     "output_type": "execute_result"
    }
   ],
   "source": [
    "no_of_functions = len(df_white_weight_functions)\n",
    "no_of_functions #length3"
   ]
  },
  {
   "cell_type": "code",
   "execution_count": 11,
   "metadata": {},
   "outputs": [],
   "source": [
    "# Compute the clustering coefficents\n",
    "\n",
    "# Start by creating a list of lists filled with 0\n",
    "clustering_coefficients = []\n",
    "for i in range(no_of_obj):\n",
    "    clustering_coefficients.append([])\n",
    "    for j in range(no_of_functions): \n",
    "        clustering_coefficients[i].append(0)\n",
    "\n",
    "# Acctually compute the values\n",
    "for i in range(no_of_functions):\n",
    "  for j in range(no_of_obj):\n",
    "    result = 0\n",
    "\n",
    "    for k in range(no_of_param):\n",
    "      value = df_objects.iloc[j, k+1] # +1 becuase the first column includes a description\n",
    "      whitenization_weight_function = whitenization_weight_functions[i][k]\n",
    "\n",
    "      function_value = whitenization_weight_function(value)\n",
    "      ratio_value = df_ratios.iloc[0, k+1] # +1 becuase the first column includes a description\n",
    "\n",
    "      result +=  function_value* ratio_value\n",
    "      \n",
    "    clustering_coefficients[j][i] = result; "
   ]
  },
  {
   "cell_type": "code",
   "execution_count": 12,
   "metadata": {},
   "outputs": [],
   "source": [
    "cluster = []\n",
    "\n",
    "for coefficents in clustering_coefficients:\n",
    "    max = coefficents[0]\n",
    "    index = 0\n",
    "    for i in range(1,len(coefficents)):\n",
    "        if coefficents[i] > max:\n",
    "            max = coefficents[i]\n",
    "            index = i\n",
    "    cluster.append(index)"
   ]
  },
  {
   "cell_type": "code",
   "execution_count": 13,
   "metadata": {},
   "outputs": [],
   "source": [
    "# Create a copy of the original objects.\n",
    "df_results = df_objects.copy()\n",
    "# Add the cluster column\n",
    "df_results[\"cluster\"] = cluster"
   ]
  },
  {
   "cell_type": "markdown",
   "metadata": {},
   "source": [
    "## Output"
   ]
  },
  {
   "cell_type": "markdown",
   "metadata": {},
   "source": [
    "Clustering coefficients"
   ]
  },
  {
   "cell_type": "code",
   "execution_count": 17,
   "metadata": {},
   "outputs": [
    {
     "data": {
      "text/html": [
       "<div>\n",
       "<style scoped>\n",
       "    .dataframe tbody tr th:only-of-type {\n",
       "        vertical-align: middle;\n",
       "    }\n",
       "\n",
       "    .dataframe tbody tr th {\n",
       "        vertical-align: top;\n",
       "    }\n",
       "\n",
       "    .dataframe thead th {\n",
       "        text-align: right;\n",
       "    }\n",
       "</style>\n",
       "<table border=\"1\" class=\"dataframe\">\n",
       "  <thead>\n",
       "    <tr style=\"text-align: right;\">\n",
       "      <th></th>\n",
       "      <th>0</th>\n",
       "      <th>1</th>\n",
       "      <th>2</th>\n",
       "    </tr>\n",
       "  </thead>\n",
       "  <tbody>\n",
       "    <tr>\n",
       "      <th>0</th>\n",
       "      <td>0.035714</td>\n",
       "      <td>0.12500</td>\n",
       "      <td>1.000000</td>\n",
       "    </tr>\n",
       "    <tr>\n",
       "      <th>1</th>\n",
       "      <td>0.332143</td>\n",
       "      <td>0.68811</td>\n",
       "      <td>0.248780</td>\n",
       "    </tr>\n",
       "    <tr>\n",
       "      <th>2</th>\n",
       "      <td>0.340107</td>\n",
       "      <td>0.66950</td>\n",
       "      <td>0.312500</td>\n",
       "    </tr>\n",
       "    <tr>\n",
       "      <th>3</th>\n",
       "      <td>0.610714</td>\n",
       "      <td>0.28825</td>\n",
       "      <td>0.368750</td>\n",
       "    </tr>\n",
       "    <tr>\n",
       "      <th>4</th>\n",
       "      <td>0.765625</td>\n",
       "      <td>0.07500</td>\n",
       "      <td>0.250000</td>\n",
       "    </tr>\n",
       "    <tr>\n",
       "      <th>5</th>\n",
       "      <td>0.668321</td>\n",
       "      <td>0.50800</td>\n",
       "      <td>0.000000</td>\n",
       "    </tr>\n",
       "    <tr>\n",
       "      <th>6</th>\n",
       "      <td>0.928571</td>\n",
       "      <td>0.12500</td>\n",
       "      <td>0.000000</td>\n",
       "    </tr>\n",
       "    <tr>\n",
       "      <th>7</th>\n",
       "      <td>0.859375</td>\n",
       "      <td>0.22500</td>\n",
       "      <td>0.041667</td>\n",
       "    </tr>\n",
       "    <tr>\n",
       "      <th>8</th>\n",
       "      <td>0.765000</td>\n",
       "      <td>0.25000</td>\n",
       "      <td>0.000000</td>\n",
       "    </tr>\n",
       "    <tr>\n",
       "      <th>9</th>\n",
       "      <td>0.653571</td>\n",
       "      <td>0.52500</td>\n",
       "      <td>0.000000</td>\n",
       "    </tr>\n",
       "    <tr>\n",
       "      <th>10</th>\n",
       "      <td>0.900000</td>\n",
       "      <td>0.15000</td>\n",
       "      <td>0.000000</td>\n",
       "    </tr>\n",
       "    <tr>\n",
       "      <th>11</th>\n",
       "      <td>0.797321</td>\n",
       "      <td>0.32500</td>\n",
       "      <td>0.000000</td>\n",
       "    </tr>\n",
       "    <tr>\n",
       "      <th>12</th>\n",
       "      <td>0.731343</td>\n",
       "      <td>0.36250</td>\n",
       "      <td>0.037500</td>\n",
       "    </tr>\n",
       "    <tr>\n",
       "      <th>13</th>\n",
       "      <td>0.688571</td>\n",
       "      <td>0.35500</td>\n",
       "      <td>0.000000</td>\n",
       "    </tr>\n",
       "    <tr>\n",
       "      <th>14</th>\n",
       "      <td>0.411429</td>\n",
       "      <td>0.60750</td>\n",
       "      <td>0.387500</td>\n",
       "    </tr>\n",
       "    <tr>\n",
       "      <th>15</th>\n",
       "      <td>0.683571</td>\n",
       "      <td>0.22500</td>\n",
       "      <td>0.200000</td>\n",
       "    </tr>\n",
       "    <tr>\n",
       "      <th>16</th>\n",
       "      <td>0.000000</td>\n",
       "      <td>0.05000</td>\n",
       "      <td>1.000000</td>\n",
       "    </tr>\n",
       "  </tbody>\n",
       "</table>\n",
       "</div>"
      ],
      "text/plain": [
       "           0        1         2\n",
       "0   0.035714  0.12500  1.000000\n",
       "1   0.332143  0.68811  0.248780\n",
       "2   0.340107  0.66950  0.312500\n",
       "3   0.610714  0.28825  0.368750\n",
       "4   0.765625  0.07500  0.250000\n",
       "5   0.668321  0.50800  0.000000\n",
       "6   0.928571  0.12500  0.000000\n",
       "7   0.859375  0.22500  0.041667\n",
       "8   0.765000  0.25000  0.000000\n",
       "9   0.653571  0.52500  0.000000\n",
       "10  0.900000  0.15000  0.000000\n",
       "11  0.797321  0.32500  0.000000\n",
       "12  0.731343  0.36250  0.037500\n",
       "13  0.688571  0.35500  0.000000\n",
       "14  0.411429  0.60750  0.387500\n",
       "15  0.683571  0.22500  0.200000\n",
       "16  0.000000  0.05000  1.000000"
      ]
     },
     "execution_count": 17,
     "metadata": {},
     "output_type": "execute_result"
    }
   ],
   "source": [
    "clustering_coefficients\n",
    "df_clustering_coefficents = pd.DataFrame(clustering_coefficients)\n",
    "df_clustering_coefficents"
   ]
  },
  {
   "cell_type": "markdown",
   "metadata": {},
   "source": [
    "Cluster for each object"
   ]
  },
  {
   "cell_type": "code",
   "execution_count": 15,
   "metadata": {},
   "outputs": [
    {
     "data": {
      "text/html": [
       "<div>\n",
       "<style scoped>\n",
       "    .dataframe tbody tr th:only-of-type {\n",
       "        vertical-align: middle;\n",
       "    }\n",
       "\n",
       "    .dataframe tbody tr th {\n",
       "        vertical-align: top;\n",
       "    }\n",
       "\n",
       "    .dataframe thead th {\n",
       "        text-align: right;\n",
       "    }\n",
       "</style>\n",
       "<table border=\"1\" class=\"dataframe\">\n",
       "  <thead>\n",
       "    <tr style=\"text-align: right;\">\n",
       "      <th></th>\n",
       "      <th>Object\\Parameter</th>\n",
       "      <th>Parameter1</th>\n",
       "      <th>Parameter2</th>\n",
       "      <th>Parameter3</th>\n",
       "      <th>Parameter4</th>\n",
       "      <th>cluster</th>\n",
       "    </tr>\n",
       "  </thead>\n",
       "  <tbody>\n",
       "    <tr>\n",
       "      <th>0</th>\n",
       "      <td>Object1</td>\n",
       "      <td>22.50</td>\n",
       "      <td>4.0</td>\n",
       "      <td>0</td>\n",
       "      <td>0.00</td>\n",
       "      <td>2</td>\n",
       "    </tr>\n",
       "    <tr>\n",
       "      <th>1</th>\n",
       "      <td>Object2</td>\n",
       "      <td>79.37</td>\n",
       "      <td>6.0</td>\n",
       "      <td>600</td>\n",
       "      <td>0.75</td>\n",
       "      <td>1</td>\n",
       "    </tr>\n",
       "    <tr>\n",
       "      <th>2</th>\n",
       "      <td>Object3</td>\n",
       "      <td>144.00</td>\n",
       "      <td>7.0</td>\n",
       "      <td>300</td>\n",
       "      <td>0.75</td>\n",
       "      <td>1</td>\n",
       "    </tr>\n",
       "    <tr>\n",
       "      <th>3</th>\n",
       "      <td>Object4</td>\n",
       "      <td>300.00</td>\n",
       "      <td>6.1</td>\n",
       "      <td>189</td>\n",
       "      <td>12.00</td>\n",
       "      <td>0</td>\n",
       "    </tr>\n",
       "    <tr>\n",
       "      <th>4</th>\n",
       "      <td>Object5</td>\n",
       "      <td>456.00</td>\n",
       "      <td>12.0</td>\n",
       "      <td>250</td>\n",
       "      <td>12.00</td>\n",
       "      <td>0</td>\n",
       "    </tr>\n",
       "    <tr>\n",
       "      <th>5</th>\n",
       "      <td>Object6</td>\n",
       "      <td>189.00</td>\n",
       "      <td>8.0</td>\n",
       "      <td>700</td>\n",
       "      <td>1.50</td>\n",
       "      <td>0</td>\n",
       "    </tr>\n",
       "    <tr>\n",
       "      <th>6</th>\n",
       "      <td>Object7</td>\n",
       "      <td>369.00</td>\n",
       "      <td>8.0</td>\n",
       "      <td>1300</td>\n",
       "      <td>2.25</td>\n",
       "      <td>0</td>\n",
       "    </tr>\n",
       "    <tr>\n",
       "      <th>7</th>\n",
       "      <td>Object8</td>\n",
       "      <td>1127.11</td>\n",
       "      <td>16.2</td>\n",
       "      <td>550</td>\n",
       "      <td>3.00</td>\n",
       "      <td>0</td>\n",
       "    </tr>\n",
       "    <tr>\n",
       "      <th>8</th>\n",
       "      <td>Object9</td>\n",
       "      <td>260.00</td>\n",
       "      <td>11.0</td>\n",
       "      <td>600</td>\n",
       "      <td>1.00</td>\n",
       "      <td>0</td>\n",
       "    </tr>\n",
       "    <tr>\n",
       "      <th>9</th>\n",
       "      <td>Object10</td>\n",
       "      <td>200.00</td>\n",
       "      <td>8.0</td>\n",
       "      <td>600</td>\n",
       "      <td>1.25</td>\n",
       "      <td>0</td>\n",
       "    </tr>\n",
       "    <tr>\n",
       "      <th>10</th>\n",
       "      <td>Object11</td>\n",
       "      <td>475.00</td>\n",
       "      <td>10.0</td>\n",
       "      <td>1000</td>\n",
       "      <td>0.75</td>\n",
       "      <td>0</td>\n",
       "    </tr>\n",
       "    <tr>\n",
       "      <th>11</th>\n",
       "      <td>Object12</td>\n",
       "      <td>314.10</td>\n",
       "      <td>8.0</td>\n",
       "      <td>900</td>\n",
       "      <td>0.75</td>\n",
       "      <td>0</td>\n",
       "    </tr>\n",
       "    <tr>\n",
       "      <th>12</th>\n",
       "      <td>Object13</td>\n",
       "      <td>282.80</td>\n",
       "      <td>7.4</td>\n",
       "      <td>1300</td>\n",
       "      <td>0.50</td>\n",
       "      <td>0</td>\n",
       "    </tr>\n",
       "    <tr>\n",
       "      <th>13</th>\n",
       "      <td>Object14</td>\n",
       "      <td>240.00</td>\n",
       "      <td>8.0</td>\n",
       "      <td>1200</td>\n",
       "      <td>0.50</td>\n",
       "      <td>0</td>\n",
       "    </tr>\n",
       "    <tr>\n",
       "      <th>14</th>\n",
       "      <td>Object15</td>\n",
       "      <td>160.00</td>\n",
       "      <td>5.0</td>\n",
       "      <td>1000</td>\n",
       "      <td>0.25</td>\n",
       "      <td>1</td>\n",
       "    </tr>\n",
       "    <tr>\n",
       "      <th>15</th>\n",
       "      <td>Object16</td>\n",
       "      <td>270.00</td>\n",
       "      <td>8.0</td>\n",
       "      <td>1200</td>\n",
       "      <td>0.25</td>\n",
       "      <td>0</td>\n",
       "    </tr>\n",
       "    <tr>\n",
       "      <th>16</th>\n",
       "      <td>Object17</td>\n",
       "      <td>9.00</td>\n",
       "      <td>1.0</td>\n",
       "      <td>200</td>\n",
       "      <td>0.00</td>\n",
       "      <td>2</td>\n",
       "    </tr>\n",
       "  </tbody>\n",
       "</table>\n",
       "</div>"
      ],
      "text/plain": [
       "   Object\\Parameter  Parameter1  Parameter2  Parameter3  Parameter4  cluster\n",
       "0           Object1       22.50         4.0           0        0.00        2\n",
       "1           Object2       79.37         6.0         600        0.75        1\n",
       "2           Object3      144.00         7.0         300        0.75        1\n",
       "3           Object4      300.00         6.1         189       12.00        0\n",
       "4           Object5      456.00        12.0         250       12.00        0\n",
       "5           Object6      189.00         8.0         700        1.50        0\n",
       "6           Object7      369.00         8.0        1300        2.25        0\n",
       "7           Object8     1127.11        16.2         550        3.00        0\n",
       "8           Object9      260.00        11.0         600        1.00        0\n",
       "9          Object10      200.00         8.0         600        1.25        0\n",
       "10         Object11      475.00        10.0        1000        0.75        0\n",
       "11         Object12      314.10         8.0         900        0.75        0\n",
       "12         Object13      282.80         7.4        1300        0.50        0\n",
       "13         Object14      240.00         8.0        1200        0.50        0\n",
       "14         Object15      160.00         5.0        1000        0.25        1\n",
       "15         Object16      270.00         8.0        1200        0.25        0\n",
       "16         Object17        9.00         1.0         200        0.00        2"
      ]
     },
     "execution_count": 15,
     "metadata": {},
     "output_type": "execute_result"
    }
   ],
   "source": [
    "df_results"
   ]
  },
  {
   "cell_type": "markdown",
   "metadata": {},
   "source": [
    "Objects in each cluster"
   ]
  },
  {
   "cell_type": "code",
   "execution_count": 16,
   "metadata": {},
   "outputs": [
    {
     "name": "stdout",
     "output_type": "stream",
     "text": [
      "1: [4, 5, 6, 7, 8, 9, 10, 11, 12, 13, 14, 16]\n",
      "2: [2, 3, 15]\n",
      "3: [1, 17]\n"
     ]
    }
   ],
   "source": [
    "for i in range(no_of_functions):\n",
    "    cluster_index = i+1\n",
    "    object_indexs = str(list(df_results[df_results['cluster'] == i].index + 1)) # +1 to have the indexes starting from 1\n",
    "    print(str(cluster_index) + \": \"+object_indexs)"
   ]
  }
 ],
 "metadata": {
  "kernelspec": {
   "display_name": "Python 3.8.13 ('base')",
   "language": "python",
   "name": "python3"
  },
  "language_info": {
   "codemirror_mode": {
    "name": "ipython",
    "version": 3
   },
   "file_extension": ".py",
   "mimetype": "text/x-python",
   "name": "python",
   "nbconvert_exporter": "python",
   "pygments_lexer": "ipython3",
   "version": "3.8.13"
  },
  "orig_nbformat": 4,
  "vscode": {
   "interpreter": {
    "hash": "6cd698982fe8a1411a50998c32fff066b365446a57c43037916d7e5212929cf2"
   }
  }
 },
 "nbformat": 4,
 "nbformat_minor": 2
}
