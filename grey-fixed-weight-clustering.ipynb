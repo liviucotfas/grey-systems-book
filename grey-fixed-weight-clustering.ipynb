{
 "cells": [
  {
   "cell_type": "markdown",
   "metadata": {},
   "source": [
    "This notebook implements the code required for performing \"grey fixed weight clustering\".\n",
    "\n",
    "[![Open In Colab](https://colab.research.google.com/assets/colab-badge.svg)](http://colab.research.google.com/github/liviucotfas/grey-systems-book/blob/main/grey-fixed-weight-clustering.ipynb)\n",
    "\n",
    "Note: the implementation has been inspired by the one in the \"Grey Modeling Software (version 6)\"."
   ]
  },
  {
   "cell_type": "markdown",
   "metadata": {},
   "source": [
    "## Load the Excel file with the necessary data"
   ]
  },
  {
   "cell_type": "markdown",
   "metadata": {},
   "source": [
    "**Step 1:** Download the Excel template and adjust the object parameters (Sheet 1), the whitenization weight functions (Sheet 2) and the weight of parameters (Sheet 3). The template is available at: https://github.com/liviucotfas/grey-systems-book/raw/main/grey-fixed-weight-clustering-template.xls .\n",
    "\n",
    "Note: if you only wish to test this notebook, you can leave the default values in the Excel file."
   ]
  },
  {
   "cell_type": "code",
   "execution_count": null,
   "metadata": {},
   "outputs": [],
   "source": [
    "import pandas as pd"
   ]
  },
  {
   "cell_type": "markdown",
   "metadata": {},
   "source": [
    "**Step 2:** If using **Google Colab** please upload the Excel file that you have downloaded at **Step 1**, when asked. Otherwise, if running locally, please set the path towards the Excel file in the `file_name` variable.\n",
    "\n",
    "Note: if you get an error related to the version of the `xlrd` library while running the code below, please uncomment the first line of the cell `!pip install --upgrade xlrd`."
   ]
  },
  {
   "cell_type": "code",
   "execution_count": null,
   "metadata": {},
   "outputs": [],
   "source": [
    "# !pip install --upgrade xlrd # Uncomment this line if you get an error related to xlrd while running this cell.\n",
    "\n",
    "if 'google.colab' in str(get_ipython()): # Check if the code is running in Google Colab.\n",
    "    from google.colab import files\n",
    "    uploaded = files.upload()\n",
    "    file_name = list(uploaded.keys())[0]\n",
    "else: # The notebook is running locally\n",
    "    file_name = \"https://github.com/liviucotfas/grey-systems-book/raw/main/grey-fixed-weight-clustering-template.xls\"\n",
    "\n",
    "df_objects = pd.read_excel(file_name)\n",
    "df_white_weight_functions = pd.read_excel(file_name, \"Sheet2\")\n",
    "df_ratios = pd.read_excel(file_name, \"Sheet3\")"
   ]
  },
  {
   "cell_type": "markdown",
   "metadata": {},
   "source": [
    "**Step 3:** You can check below if the values for the object parameters (Sheet 1), the whitenization weight functions (Sheet 2) and the weight of parameters (Sheet 3) have been loaded correctly."
   ]
  },
  {
   "cell_type": "markdown",
   "metadata": {},
   "source": [
    "(Sheet 1) Sequence of object parameters' values"
   ]
  },
  {
   "cell_type": "code",
   "execution_count": null,
   "metadata": {},
   "outputs": [],
   "source": [
    "print(df_objects)"
   ]
  },
  {
   "cell_type": "markdown",
   "metadata": {},
   "source": [
    "(Sheet 2) Whitenization weight functions"
   ]
  },
  {
   "cell_type": "code",
   "execution_count": null,
   "metadata": {},
   "outputs": [],
   "source": [
    "print(df_white_weight_functions)"
   ]
  },
  {
   "cell_type": "markdown",
   "metadata": {},
   "source": [
    "(Sheet 3) Weight of parameters"
   ]
  },
  {
   "cell_type": "code",
   "execution_count": null,
   "metadata": {},
   "outputs": [],
   "source": [
    "print(df_ratios)"
   ]
  },
  {
   "cell_type": "markdown",
   "metadata": {},
   "source": [
    "**Step 4:** The results will be displayed in the **Output** section below (located after the **Implementation** section)."
   ]
  },
  {
   "cell_type": "markdown",
   "metadata": {},
   "source": [
    "## Implementation"
   ]
  },
  {
   "cell_type": "code",
   "execution_count": null,
   "metadata": {},
   "outputs": [],
   "source": [
    "class WhitenizationWeightFunction(object):\n",
    "    \"\"\"Class used for representing whitenization weight functions.\"\"\"\n",
    "\n",
    "    def __init__ (self, function_as_string : str):\n",
    "        # split the string into turning points\n",
    "        self.turning_points = function_as_string.split(\",\")\n",
    "        # validate the number of turning points\n",
    "        if len(self.turning_points) != 4:\n",
    "            raise ValueError(\"The string should contain 4 turning ponits separated by `,`: x,x,x,x\")\n",
    "        # strip any white spaces \n",
    "        self.turning_points = list(map(lambda s:s.strip(), self.turning_points))\n",
    "    def __call__(self, value : float) -> float:\n",
    "        # 1. Whitenization weight function of lower measure\n",
    "        if self.turning_points[0] == \"-\" and self.turning_points[1] == \"-\" and self.turning_points[2] != \"-\" and self.turning_points[3] != \"-\":\n",
    "            return self.type1(value)\n",
    "        # 2. Whitenization weight function of upper measure\n",
    "        elif self.turning_points[0] != \"-\" and self.turning_points[2] == \"-\" and self.turning_points[3] == \"-\":\n",
    "            return self.type2(value)\n",
    "        # 3. Whitenization weight function of moderate measure\n",
    "        elif self.turning_points[0] != \"-\" and self.turning_points[1] != \"-\" and self.turning_points[2] == \"-\" and self.turning_points[3] != \"-\":\n",
    "            return self.type3(value)\n",
    "        # 4. Typical whitenization weight function\n",
    "        elif self.turning_points[0] != \"-\" and self.turning_points[1] != \"-\" and self.turning_points[2] != \"-\" and self.turning_points[3] != \"-\":\n",
    "            return self.type4(value)\n",
    "        else:\n",
    "            raise ValueError()            \n",
    "    def type1(self, value):\n",
    "        if value < 0.0 or value > float(self.turning_points[3]):\n",
    "            return 0.0\n",
    "        elif value < float(self.turning_points[2]) and value >= 0.0:\n",
    "            return 1.0\n",
    "        elif value >= float(self.turning_points[2]) and value < float(self.turning_points[3]):\n",
    "            return (float(self.turning_points[3]) - value) / (float(self.turning_points[3]) - float(self.turning_points[2]));\n",
    "        else:\n",
    "            return 0\n",
    "    def type2(self, value):\n",
    "        if value < float(self.turning_points[0]):\n",
    "            return 0.0\n",
    "        elif value >= float(self.turning_points[0]) and value < float(self.turning_points[1]):\n",
    "            return (value - float(self.turning_points[0])) / (float(self.turning_points[1]) - float(self.turning_points[0]));\n",
    "        elif value >= float(self.turning_points[1]):\n",
    "            return 1.0\n",
    "        else:\n",
    "            return 0\n",
    "    def type3(self, value):\n",
    "        if value < float(self.turning_points[0]) or value > float(self.turning_points[3]):\n",
    "            return 0\n",
    "        elif value >= float(self.turning_points[0]) and value < float(self.turning_points[1]):\n",
    "            return (value - float(self.turning_points[0])) / (float(self.turning_points[1]) - float(self.turning_points[0]))\n",
    "        elif value >= float(self.turning_points[1]) and value <= float(self.turning_points[3]):\n",
    "            return (float(self.turning_points[3]) - value) / (float(self.turning_points[3]) - float(self.turning_points[1]))\n",
    "        else:\n",
    "            return 0;\n",
    "    def type4(self, value):\n",
    "        if value < float(self.turning_points[0]) or value > float(self.turning_points[3]):\n",
    "            return 0\n",
    "        elif value >= float(self.turning_points[0]) and value <= float(self.turning_points[1]):\n",
    "            return (value - float(self.turning_points[0])) / (float(self.turning_points[1]) - float(self.turning_points[0]));\n",
    "        elif value >= float(self.turning_points[1]) and value < float(self.turning_points[2]):\n",
    "            return 1\n",
    "        elif value >= float(self.turning_points[2]) and value <= float(self.turning_points[3]):\n",
    "            return (float(self.turning_points[3]) - value) / (float(self.turning_points[3]) - float(self.turning_points[2]))\n",
    "        else:\n",
    "            return 0\n",
    "##text = \"-,-,841,859\"\n",
    "##f1 =  WhitenizationWeightFunction(text)\n",
    "##f1(5)\n",
    "text = \"-,-,300,600\"\n",
    "f1 =  WhitenizationWeightFunction(text)\n",
    "f1(600)"
   ]
  },
  {
   "cell_type": "code",
   "execution_count": null,
   "metadata": {},
   "outputs": [],
   "source": [
    "# Starting from the df_white_weight_functions create a list of lists holding WhitenizationWeightFunction \n",
    "whitenization_weight_functions = []\n",
    "for i in range(df_white_weight_functions.shape[0]):\n",
    "    whitenization_weight_functions.append([])\n",
    "    for j in range(df_white_weight_functions.shape[1] - 1):\n",
    "        function_as_string = df_white_weight_functions.iloc[i, j+1]\n",
    "        whitenization_weight_functions[i].append(WhitenizationWeightFunction(function_as_string))"
   ]
  },
  {
   "cell_type": "code",
   "execution_count": null,
   "metadata": {},
   "outputs": [],
   "source": [
    "no_of_obj = len(df_objects)\n",
    "no_of_obj #length1"
   ]
  },
  {
   "cell_type": "code",
   "execution_count": null,
   "metadata": {},
   "outputs": [],
   "source": [
    "no_of_param = len(df_objects.columns) - 1 # we substract 1 becuase the first column includes the names\n",
    "no_of_param #length2"
   ]
  },
  {
   "cell_type": "code",
   "execution_count": null,
   "metadata": {},
   "outputs": [],
   "source": [
    "no_of_functions = len(df_white_weight_functions)\n",
    "no_of_functions #length3"
   ]
  },
  {
   "cell_type": "code",
   "execution_count": null,
   "metadata": {},
   "outputs": [],
   "source": [
    "# Compute the clustering coefficents\n",
    "\n",
    "# Start by creating a list of lists filled with 0\n",
    "clustering_coefficents = []\n",
    "for i in range(no_of_obj):\n",
    "    clustering_coefficents.append([])\n",
    "    for j in range(no_of_functions): \n",
    "        clustering_coefficents[i].append(0)\n",
    "\n",
    "# Acctually compute the values\n",
    "for i in range(no_of_functions):\n",
    "  for j in range(no_of_obj):\n",
    "    result = 0\n",
    "\n",
    "    for k in range(no_of_param):\n",
    "      value = df_objects.iloc[j, k+1] # +1 becuase the first column includes a description\n",
    "      whitenization_weight_function = whitenization_weight_functions[i][k]\n",
    "\n",
    "      function_value = whitenization_weight_function(value)\n",
    "      ratio_value = df_ratios.iloc[0, k+1] # +1 becuase the first column includes a description\n",
    "\n",
    "      result +=  function_value* ratio_value\n",
    "      \n",
    "    clustering_coefficents[j][i] = result; "
   ]
  },
  {
   "cell_type": "code",
   "execution_count": null,
   "metadata": {},
   "outputs": [],
   "source": [
    "cluster = []\n",
    "\n",
    "for coefficents in clustering_coefficents:\n",
    "    max = coefficents[0]\n",
    "    index = 0\n",
    "    for i in range(1,len(coefficents)):\n",
    "        if coefficents[i] > max:\n",
    "            max = coefficents[i]\n",
    "            index = i\n",
    "    cluster.append(index)"
   ]
  },
  {
   "cell_type": "code",
   "execution_count": null,
   "metadata": {},
   "outputs": [],
   "source": [
    "df_results = df_objects.copy() # Create a copy of the original objects.\n",
    "df_results[\"cluster\"] = cluster # Add the cluster column"
   ]
  },
  {
   "cell_type": "markdown",
   "metadata": {},
   "source": [
    "## Output"
   ]
  },
  {
   "cell_type": "markdown",
   "metadata": {},
   "source": [
    "Clustering coefficents"
   ]
  },
  {
   "cell_type": "code",
   "execution_count": null,
   "metadata": {},
   "outputs": [],
   "source": [
    "clustering_coefficents"
   ]
  },
  {
   "cell_type": "markdown",
   "metadata": {},
   "source": [
    "Cluster for each object"
   ]
  },
  {
   "cell_type": "code",
   "execution_count": null,
   "metadata": {},
   "outputs": [],
   "source": [
    "df_results"
   ]
  },
  {
   "cell_type": "markdown",
   "metadata": {},
   "source": [
    "Objects in each cluster"
   ]
  },
  {
   "cell_type": "code",
   "execution_count": null,
   "metadata": {},
   "outputs": [],
   "source": [
    "for i in range(no_of_functions):\n",
    "    cluster_index = i+1\n",
    "    object_indexs = str(list(df_results[df_results['cluster'] == i].index + 1)) # +1 to have the indexes starting from 1\n",
    "    print(str(cluster_index) + \": \"+object_indexs)"
   ]
  }
 ],
 "metadata": {
  "kernelspec": {
   "display_name": "Python 3.8.13 ('base')",
   "language": "python",
   "name": "python3"
  },
  "language_info": {
   "codemirror_mode": {
    "name": "ipython",
    "version": 3
   },
   "file_extension": ".py",
   "mimetype": "text/x-python",
   "name": "python",
   "nbconvert_exporter": "python",
   "pygments_lexer": "ipython3",
   "version": "3.8.13"
  },
  "orig_nbformat": 4,
  "vscode": {
   "interpreter": {
    "hash": "6cd698982fe8a1411a50998c32fff066b365446a57c43037916d7e5212929cf2"
   }
  }
 },
 "nbformat": 4,
 "nbformat_minor": 2
}
