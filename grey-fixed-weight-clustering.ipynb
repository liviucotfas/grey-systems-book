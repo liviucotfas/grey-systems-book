{
 "cells": [
  {
   "cell_type": "markdown",
   "metadata": {},
   "source": [
    "This notebook implements the code required for performing \"grey fixed weight clustering\".\n",
    "\n",
    "[![Open In Colab](https://colab.research.google.com/assets/colab-badge.svg)](http://colab.research.google.com/github/liviucotfas/grey-systems-book/blob/main/grey-fixed-weight-clustering.ipynb)\n",
    "\n",
    "Note: the implementation has been inspired by the one in the \"Grey Modeling Software (version 6)\"."
   ]
  },
  {
   "cell_type": "markdown",
   "metadata": {},
   "source": [
    "## Load the Excel file with the necessary data"
   ]
  },
  {
   "cell_type": "code",
   "execution_count": 1,
   "metadata": {},
   "outputs": [],
   "source": [
    "import pandas as pd"
   ]
  },
  {
   "cell_type": "markdown",
   "metadata": {},
   "source": [
    "If using **Google Colab** please upload an Excel file with the necessary data, when asked. Otherwise, if running locally, please set the path towards the Excel file in the `file_name` variable. You can check below if the values for the object parameters (Sheet 1), the whitenization weight functions (Sheet 2) and the weight of parameters (Sheet 3) have been loaded correctly."
   ]
  },
  {
   "cell_type": "code",
   "execution_count": 2,
   "metadata": {},
   "outputs": [
    {
     "ename": "FileNotFoundError",
     "evalue": "[Errno 2] No such file or directory: 'b2f-24rows-wf-1.xls'",
     "output_type": "error",
     "traceback": [
      "\u001b[1;31m---------------------------------------------------------------------------\u001b[0m",
      "\u001b[1;31mFileNotFoundError\u001b[0m                         Traceback (most recent call last)",
      "\u001b[1;32md:\\projects-public\\grey-systems-book\\grey-fixed-weight-clustering.ipynb Cell 5\u001b[0m in \u001b[0;36m<cell line: 8>\u001b[1;34m()\u001b[0m\n\u001b[0;32m      <a href='vscode-notebook-cell:/d%3A/projects-public/grey-systems-book/grey-fixed-weight-clustering.ipynb#W2sZmlsZQ%3D%3D?line=4'>5</a>\u001b[0m \u001b[39melse\u001b[39;00m:\n\u001b[0;32m      <a href='vscode-notebook-cell:/d%3A/projects-public/grey-systems-book/grey-fixed-weight-clustering.ipynb#W2sZmlsZQ%3D%3D?line=5'>6</a>\u001b[0m     file_name \u001b[39m=\u001b[39m \u001b[39m\"\u001b[39m\u001b[39mb2f-24rows-wf-1.xls\u001b[39m\u001b[39m\"\u001b[39m\n\u001b[1;32m----> <a href='vscode-notebook-cell:/d%3A/projects-public/grey-systems-book/grey-fixed-weight-clustering.ipynb#W2sZmlsZQ%3D%3D?line=7'>8</a>\u001b[0m df_objects \u001b[39m=\u001b[39m pd\u001b[39m.\u001b[39;49mread_excel(file_name)\n\u001b[0;32m      <a href='vscode-notebook-cell:/d%3A/projects-public/grey-systems-book/grey-fixed-weight-clustering.ipynb#W2sZmlsZQ%3D%3D?line=8'>9</a>\u001b[0m df_white_weight_functions \u001b[39m=\u001b[39m pd\u001b[39m.\u001b[39mread_excel(file_name, \u001b[39m\"\u001b[39m\u001b[39mSheet2\u001b[39m\u001b[39m\"\u001b[39m)\n\u001b[0;32m     <a href='vscode-notebook-cell:/d%3A/projects-public/grey-systems-book/grey-fixed-weight-clustering.ipynb#W2sZmlsZQ%3D%3D?line=9'>10</a>\u001b[0m df_ratios \u001b[39m=\u001b[39m pd\u001b[39m.\u001b[39mread_excel(file_name, \u001b[39m\"\u001b[39m\u001b[39mSheet3\u001b[39m\u001b[39m\"\u001b[39m)\n",
      "File \u001b[1;32mc:\\Users\\lcotfas\\anaconda3\\lib\\site-packages\\pandas\\util\\_decorators.py:311\u001b[0m, in \u001b[0;36mdeprecate_nonkeyword_arguments.<locals>.decorate.<locals>.wrapper\u001b[1;34m(*args, **kwargs)\u001b[0m\n\u001b[0;32m    305\u001b[0m \u001b[39mif\u001b[39;00m \u001b[39mlen\u001b[39m(args) \u001b[39m>\u001b[39m num_allow_args:\n\u001b[0;32m    306\u001b[0m     warnings\u001b[39m.\u001b[39mwarn(\n\u001b[0;32m    307\u001b[0m         msg\u001b[39m.\u001b[39mformat(arguments\u001b[39m=\u001b[39marguments),\n\u001b[0;32m    308\u001b[0m         \u001b[39mFutureWarning\u001b[39;00m,\n\u001b[0;32m    309\u001b[0m         stacklevel\u001b[39m=\u001b[39mstacklevel,\n\u001b[0;32m    310\u001b[0m     )\n\u001b[1;32m--> 311\u001b[0m \u001b[39mreturn\u001b[39;00m func(\u001b[39m*\u001b[39;49margs, \u001b[39m*\u001b[39;49m\u001b[39m*\u001b[39;49mkwargs)\n",
      "File \u001b[1;32mc:\\Users\\lcotfas\\anaconda3\\lib\\site-packages\\pandas\\io\\excel\\_base.py:457\u001b[0m, in \u001b[0;36mread_excel\u001b[1;34m(io, sheet_name, header, names, index_col, usecols, squeeze, dtype, engine, converters, true_values, false_values, skiprows, nrows, na_values, keep_default_na, na_filter, verbose, parse_dates, date_parser, thousands, decimal, comment, skipfooter, convert_float, mangle_dupe_cols, storage_options)\u001b[0m\n\u001b[0;32m    455\u001b[0m \u001b[39mif\u001b[39;00m \u001b[39mnot\u001b[39;00m \u001b[39misinstance\u001b[39m(io, ExcelFile):\n\u001b[0;32m    456\u001b[0m     should_close \u001b[39m=\u001b[39m \u001b[39mTrue\u001b[39;00m\n\u001b[1;32m--> 457\u001b[0m     io \u001b[39m=\u001b[39m ExcelFile(io, storage_options\u001b[39m=\u001b[39;49mstorage_options, engine\u001b[39m=\u001b[39;49mengine)\n\u001b[0;32m    458\u001b[0m \u001b[39melif\u001b[39;00m engine \u001b[39mand\u001b[39;00m engine \u001b[39m!=\u001b[39m io\u001b[39m.\u001b[39mengine:\n\u001b[0;32m    459\u001b[0m     \u001b[39mraise\u001b[39;00m \u001b[39mValueError\u001b[39;00m(\n\u001b[0;32m    460\u001b[0m         \u001b[39m\"\u001b[39m\u001b[39mEngine should not be specified when passing \u001b[39m\u001b[39m\"\u001b[39m\n\u001b[0;32m    461\u001b[0m         \u001b[39m\"\u001b[39m\u001b[39man ExcelFile - ExcelFile already has the engine set\u001b[39m\u001b[39m\"\u001b[39m\n\u001b[0;32m    462\u001b[0m     )\n",
      "File \u001b[1;32mc:\\Users\\lcotfas\\anaconda3\\lib\\site-packages\\pandas\\io\\excel\\_base.py:1376\u001b[0m, in \u001b[0;36mExcelFile.__init__\u001b[1;34m(self, path_or_buffer, engine, storage_options)\u001b[0m\n\u001b[0;32m   1374\u001b[0m     ext \u001b[39m=\u001b[39m \u001b[39m\"\u001b[39m\u001b[39mxls\u001b[39m\u001b[39m\"\u001b[39m\n\u001b[0;32m   1375\u001b[0m \u001b[39melse\u001b[39;00m:\n\u001b[1;32m-> 1376\u001b[0m     ext \u001b[39m=\u001b[39m inspect_excel_format(\n\u001b[0;32m   1377\u001b[0m         content_or_path\u001b[39m=\u001b[39;49mpath_or_buffer, storage_options\u001b[39m=\u001b[39;49mstorage_options\n\u001b[0;32m   1378\u001b[0m     )\n\u001b[0;32m   1379\u001b[0m     \u001b[39mif\u001b[39;00m ext \u001b[39mis\u001b[39;00m \u001b[39mNone\u001b[39;00m:\n\u001b[0;32m   1380\u001b[0m         \u001b[39mraise\u001b[39;00m \u001b[39mValueError\u001b[39;00m(\n\u001b[0;32m   1381\u001b[0m             \u001b[39m\"\u001b[39m\u001b[39mExcel file format cannot be determined, you must specify \u001b[39m\u001b[39m\"\u001b[39m\n\u001b[0;32m   1382\u001b[0m             \u001b[39m\"\u001b[39m\u001b[39man engine manually.\u001b[39m\u001b[39m\"\u001b[39m\n\u001b[0;32m   1383\u001b[0m         )\n",
      "File \u001b[1;32mc:\\Users\\lcotfas\\anaconda3\\lib\\site-packages\\pandas\\io\\excel\\_base.py:1250\u001b[0m, in \u001b[0;36minspect_excel_format\u001b[1;34m(content_or_path, storage_options)\u001b[0m\n\u001b[0;32m   1247\u001b[0m \u001b[39mif\u001b[39;00m \u001b[39misinstance\u001b[39m(content_or_path, \u001b[39mbytes\u001b[39m):\n\u001b[0;32m   1248\u001b[0m     content_or_path \u001b[39m=\u001b[39m BytesIO(content_or_path)\n\u001b[1;32m-> 1250\u001b[0m \u001b[39mwith\u001b[39;00m get_handle(\n\u001b[0;32m   1251\u001b[0m     content_or_path, \u001b[39m\"\u001b[39;49m\u001b[39mrb\u001b[39;49m\u001b[39m\"\u001b[39;49m, storage_options\u001b[39m=\u001b[39;49mstorage_options, is_text\u001b[39m=\u001b[39;49m\u001b[39mFalse\u001b[39;49;00m\n\u001b[0;32m   1252\u001b[0m ) \u001b[39mas\u001b[39;00m handle:\n\u001b[0;32m   1253\u001b[0m     stream \u001b[39m=\u001b[39m handle\u001b[39m.\u001b[39mhandle\n\u001b[0;32m   1254\u001b[0m     stream\u001b[39m.\u001b[39mseek(\u001b[39m0\u001b[39m)\n",
      "File \u001b[1;32mc:\\Users\\lcotfas\\anaconda3\\lib\\site-packages\\pandas\\io\\common.py:798\u001b[0m, in \u001b[0;36mget_handle\u001b[1;34m(path_or_buf, mode, encoding, compression, memory_map, is_text, errors, storage_options)\u001b[0m\n\u001b[0;32m    789\u001b[0m         handle \u001b[39m=\u001b[39m \u001b[39mopen\u001b[39m(\n\u001b[0;32m    790\u001b[0m             handle,\n\u001b[0;32m    791\u001b[0m             ioargs\u001b[39m.\u001b[39mmode,\n\u001b[1;32m   (...)\u001b[0m\n\u001b[0;32m    794\u001b[0m             newline\u001b[39m=\u001b[39m\u001b[39m\"\u001b[39m\u001b[39m\"\u001b[39m,\n\u001b[0;32m    795\u001b[0m         )\n\u001b[0;32m    796\u001b[0m     \u001b[39melse\u001b[39;00m:\n\u001b[0;32m    797\u001b[0m         \u001b[39m# Binary mode\u001b[39;00m\n\u001b[1;32m--> 798\u001b[0m         handle \u001b[39m=\u001b[39m \u001b[39mopen\u001b[39;49m(handle, ioargs\u001b[39m.\u001b[39;49mmode)\n\u001b[0;32m    799\u001b[0m     handles\u001b[39m.\u001b[39mappend(handle)\n\u001b[0;32m    801\u001b[0m \u001b[39m# Convert BytesIO or file objects passed with an encoding\u001b[39;00m\n",
      "\u001b[1;31mFileNotFoundError\u001b[0m: [Errno 2] No such file or directory: 'b2f-24rows-wf-1.xls'"
     ]
    }
   ],
   "source": [
    "if 'google.colab' in str(get_ipython()):\n",
    "    from google.colab import files\n",
    "    uploaded = files.upload()\n",
    "    file_name = list(uploaded.keys())[0]\n",
    "else:\n",
    "    file_name = \"b2f-24rows-wf-1.xls\"\n",
    "\n",
    "df_objects = pd.read_excel(file_name)\n",
    "df_white_weight_functions = pd.read_excel(file_name, \"Sheet2\")\n",
    "df_ratios = pd.read_excel(file_name, \"Sheet3\")"
   ]
  },
  {
   "cell_type": "markdown",
   "metadata": {},
   "source": [
    "(Sheet 1) Sequence of object parameters' values"
   ]
  },
  {
   "cell_type": "code",
   "execution_count": null,
   "metadata": {},
   "outputs": [],
   "source": [
    "print(df_objects)"
   ]
  },
  {
   "cell_type": "markdown",
   "metadata": {},
   "source": [
    "(Sheet 2) Whitenization weight functions"
   ]
  },
  {
   "cell_type": "code",
   "execution_count": null,
   "metadata": {},
   "outputs": [],
   "source": [
    "print(df_white_weight_functions)"
   ]
  },
  {
   "cell_type": "markdown",
   "metadata": {},
   "source": [
    "(Sheet 3) Weight of parameters"
   ]
  },
  {
   "cell_type": "code",
   "execution_count": null,
   "metadata": {},
   "outputs": [],
   "source": [
    "print(df_ratios)"
   ]
  },
  {
   "cell_type": "markdown",
   "metadata": {},
   "source": [
    "## Implementation"
   ]
  },
  {
   "cell_type": "code",
   "execution_count": null,
   "metadata": {},
   "outputs": [],
   "source": [
    "class WhitenizationWeightFunction(object):\n",
    "    \"\"\"Class used for representing whitenization weight functions.\"\"\"\n",
    "\n",
    "    def __init__ (self, function_as_string : str):\n",
    "        # split the string into turning points\n",
    "        self.turning_points = function_as_string.split(\",\")\n",
    "        # validate the number of turning points\n",
    "        if len(self.turning_points) != 4:\n",
    "            raise ValueError(\"The string should contain 4 turning ponits separated by `,`: x,x,x,x\")\n",
    "        # strip any white spaces \n",
    "        self.turning_points = list(map(lambda s:s.strip(), self.turning_points))\n",
    "    def __call__(self, value : float) -> float:\n",
    "        # 1. Whitenization weight function of lower measure\n",
    "        if self.turning_points[0] == \"-\" and self.turning_points[1] == \"-\" and self.turning_points[2] != \"-\" and self.turning_points[3] != \"-\":\n",
    "            return self.type1(value)\n",
    "        # 2. Whitenization weight function of upper measure\n",
    "        elif self.turning_points[0] != \"-\" and self.turning_points[2] == \"-\" and self.turning_points[3] == \"-\":\n",
    "            return self.type2(value)\n",
    "        # 3. Whitenization weight function of moderate measure\n",
    "        elif self.turning_points[0] != \"-\" and self.turning_points[1] != \"-\" and self.turning_points[2] == \"-\" and self.turning_points[3] != \"-\":\n",
    "            return self.type3(value)\n",
    "        # 4. Typical whitenization weight function\n",
    "        elif self.turning_points[0] != \"-\" and self.turning_points[1] != \"-\" and self.turning_points[2] != \"-\" and self.turning_points[3] != \"-\":\n",
    "            return self.type4(value)\n",
    "        else:\n",
    "            raise ValueError()            \n",
    "    def type1(self, value):\n",
    "        if value < 0.0 or value > float(self.turning_points[3]):\n",
    "            return 0.0\n",
    "        elif value < float(self.turning_points[2]) and value >= 0.0:\n",
    "            return 1.0\n",
    "        elif value >= float(self.turning_points[2]) and value < float(self.turning_points[3]):\n",
    "            return (float(self.turning_points[3]) - value) / (float(self.turning_points[3]) - float(self.turning_points[2]));\n",
    "    def type2(self, value):\n",
    "        if value < float(self.turning_points[0]):\n",
    "            return 0.0\n",
    "        elif value >= float(self.turning_points[0]) and value < float(self.turning_points[1]):\n",
    "            return (value - float(self.turning_points[0])) / (float(self.turning_points[1]) - float(self.turning_points[0]));\n",
    "        elif value >= float(self.turning_points[1]):\n",
    "            return 1.0\n",
    "    def type3(self, value):\n",
    "        if value < float(self.turning_points[0]) or value > float(self.turning_points[3]):\n",
    "            return 0\n",
    "        elif value >= float(self.turning_points[0]) and value < float(self.turning_points[1]):\n",
    "            return (value - float(self.turning_points[0])) / (float(self.turning_points[1]) - float(self.turning_points[0]))\n",
    "        elif value >= float(self.turning_points[1]) and value <= float(self.turning_points[3]):\n",
    "            return (float(self.turning_points[3]) - value) / (float(self.turning_points[3]) - float(self.turning_points[1]))\n",
    "    def type4(self, value):\n",
    "        if value < float(self.turning_points[0]) or value > float(self.turning_points[3]):\n",
    "            return 0\n",
    "        elif value >= float(self.turning_points[0]) and value <= float(self.turning_points[1]):\n",
    "            return (value - float(self.turning_points[0])) / (float(self.turning_points[1]) - float(self.turning_points[0]));\n",
    "        elif value >= float(self.turning_points[1]) and value < float(self.turning_points[2]):\n",
    "            return 1\n",
    "        elif value >= float(self.turning_points[2]) and value <= float(self.turning_points[3]):\n",
    "            return (float(self.turning_points[3]) - value) / (float(self.turning_points[3]) - float(self.turning_points[2]));\n",
    "##text = \"-,-,841,859\"\n",
    "##f1 =  WhitenizationWeightFunction(text)\n",
    "##f1(5)"
   ]
  },
  {
   "cell_type": "code",
   "execution_count": null,
   "metadata": {},
   "outputs": [],
   "source": [
    "# Starting from the df_white_weight_functions create a list of lists holding WhitenizationWeightFunction \n",
    "whitenization_weight_functions = []\n",
    "for i in range(df_white_weight_functions.shape[0]):\n",
    "    whitenization_weight_functions.append([])\n",
    "    for j in range(df_white_weight_functions.shape[1] - 1):\n",
    "        function_as_string = df_white_weight_functions.iloc[i, j+1]\n",
    "        whitenization_weight_functions[i].append(WhitenizationWeightFunction(function_as_string))"
   ]
  },
  {
   "cell_type": "code",
   "execution_count": null,
   "metadata": {},
   "outputs": [],
   "source": [
    "no_of_obj = len(df_objects)\n",
    "no_of_obj #length1"
   ]
  },
  {
   "cell_type": "code",
   "execution_count": null,
   "metadata": {},
   "outputs": [],
   "source": [
    "no_of_param = len(df_objects.columns) - 1 # we substract 1 becuase the first column includes the names\n",
    "no_of_param #length2"
   ]
  },
  {
   "cell_type": "code",
   "execution_count": null,
   "metadata": {},
   "outputs": [],
   "source": [
    "no_of_functions = len(df_white_weight_functions)\n",
    "no_of_functions #length3"
   ]
  },
  {
   "cell_type": "code",
   "execution_count": null,
   "metadata": {},
   "outputs": [],
   "source": [
    "# Compute the clustering coefficents\n",
    "\n",
    "# Start by creating a list of lists filled with 0\n",
    "clustering_coefficents = []\n",
    "for i in range(no_of_obj):\n",
    "    clustering_coefficents.append([])\n",
    "    for j in range(no_of_functions): \n",
    "        clustering_coefficents[i].append(0)\n",
    "\n",
    "# Acctually compute the values\n",
    "for i in range(no_of_functions):\n",
    "  for j in range(no_of_obj):\n",
    "    result = 0\n",
    "\n",
    "    for k in range(no_of_param):\n",
    "      value = df_objects.iloc[j, k+1] # +1 becuase the first column includes a description\n",
    "      whitenization_weight_function = whitenization_weight_functions[i][k]\n",
    "\n",
    "      function_value = whitenization_weight_function(value)\n",
    "      ratio_value = df_ratios.iloc[0, k+1] # +1 becuase the first column includes a description\n",
    "\n",
    "      result +=  function_value* ratio_value\n",
    "      \n",
    "    clustering_coefficents[j][i] = result; "
   ]
  },
  {
   "cell_type": "code",
   "execution_count": null,
   "metadata": {},
   "outputs": [],
   "source": [
    "cluster = []\n",
    "\n",
    "for coefficents in clustering_coefficents:\n",
    "    max = coefficents[0]\n",
    "    index = 0\n",
    "    for i in range(1,len(coefficents)):\n",
    "        if coefficents[i] > max:\n",
    "            max = coefficents[i]\n",
    "            index = i\n",
    "    cluster.append(index)"
   ]
  },
  {
   "cell_type": "code",
   "execution_count": null,
   "metadata": {},
   "outputs": [],
   "source": [
    "df_results = df_objects.copy() # Create a copy of the original objects.\n",
    "df_results[\"cluster\"] = cluster # Add the cluster column"
   ]
  },
  {
   "cell_type": "markdown",
   "metadata": {},
   "source": [
    "## Output"
   ]
  },
  {
   "cell_type": "markdown",
   "metadata": {},
   "source": [
    "Clustering coefficents"
   ]
  },
  {
   "cell_type": "code",
   "execution_count": null,
   "metadata": {},
   "outputs": [],
   "source": [
    "clustering_coefficents"
   ]
  },
  {
   "cell_type": "markdown",
   "metadata": {},
   "source": [
    "Cluster for each object"
   ]
  },
  {
   "cell_type": "code",
   "execution_count": null,
   "metadata": {},
   "outputs": [],
   "source": [
    "df_results"
   ]
  },
  {
   "cell_type": "markdown",
   "metadata": {},
   "source": [
    "Objects in each cluster"
   ]
  },
  {
   "cell_type": "code",
   "execution_count": null,
   "metadata": {},
   "outputs": [],
   "source": [
    "for i in range(no_of_functions):\n",
    "    cluster_index = i+1\n",
    "    object_indexs = str(list(df_results[df_results['cluster'] == i].index + 1)) # +1 to have the indexes starting from 1\n",
    "    print(str(cluster_index) + \": \"+object_indexs)"
   ]
  }
 ],
 "metadata": {
  "kernelspec": {
   "display_name": "Python 3.8.13 ('base')",
   "language": "python",
   "name": "python3"
  },
  "language_info": {
   "codemirror_mode": {
    "name": "ipython",
    "version": 3
   },
   "file_extension": ".py",
   "mimetype": "text/x-python",
   "name": "python",
   "nbconvert_exporter": "python",
   "pygments_lexer": "ipython3",
   "version": "3.8.13"
  },
  "orig_nbformat": 4,
  "vscode": {
   "interpreter": {
    "hash": "6cd698982fe8a1411a50998c32fff066b365446a57c43037916d7e5212929cf2"
   }
  }
 },
 "nbformat": 4,
 "nbformat_minor": 2
}
