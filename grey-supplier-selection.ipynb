{
 "cells": [
  {
   "cell_type": "markdown",
   "metadata": {},
   "source": [
    "[![Open In Colab](https://colab.research.google.com/assets/colab-badge.svg)](https://colab.research.google.com/github/liviucotfas/grey-systems-book/blob/main/grey-supplier-selection.ipynb)"
   ]
  },
  {
   "cell_type": "code",
   "execution_count": 14,
   "metadata": {},
   "outputs": [],
   "source": [
    "class GreyNumber(object):\n",
    "    def __init__ (self, low, up):\n",
    "        self.low = low\n",
    "        self.up = up"
   ]
  },
  {
   "cell_type": "code",
   "execution_count": 15,
   "metadata": {},
   "outputs": [],
   "source": [
    "def probability(a1 : GreyNumber, a2 : GreyNumber) -> float:\n",
    "    if a1.low > a2.up:\n",
    "        return 0\n",
    "    elif a1.low < a2.low <= a1.up <= a2.up: #a1.low < a2.low < a1.up < a2.up\n",
    "        return 1 - (a1.up - a2.low)**2 / (2 * (a1.up - a1.low) * (a2.up - a2.low))\n",
    "    elif a2.low < a1.low < a2.up < a1.up:\n",
    "        return (a2.up-a1.low)**2 / (2 * (a1.up - a1.low) * (a2.up - a2.low))\n",
    "    elif a2.low < a1.low < a1.up < a2.up:\n",
    "        return (2 * a2.up - a1.low - a1.up) * (a1.up - a1.low) / (2 * (a1.up - a1.low) * (a2.up - a2.low))\n",
    "    elif a1.low < a2.low < a2.up < a1.up:\n",
    "        return (a2.up + a2.low - 2 * a1.low) * (a2.up - a2.low) / (2 * (a1.up - a1.low) * (a2.up - a2.low))\n",
    "    elif a1.low == a2.low and a1.up == a2.up:\n",
    "        return 0.5\n",
    "    elif a2.low > a1.up:\n",
    "        return 1\n",
    "    else:\n",
    "        raise Exception(\"Sorry, this case is not supported\")"
   ]
  },
  {
   "cell_type": "code",
   "execution_count": 16,
   "metadata": {},
   "outputs": [
    {
     "data": {
      "text/plain": [
       "0.875"
      ]
     },
     "execution_count": 16,
     "metadata": {},
     "output_type": "execute_result"
    }
   ],
   "source": [
    "a1 = GreyNumber(2, 4)\n",
    "a2 = GreyNumber(3, 5)\n",
    "probability(a1, a2)\n"
   ]
  }
 ],
 "metadata": {
  "kernelspec": {
   "display_name": "Python 3.8.13 ('base')",
   "language": "python",
   "name": "python3"
  },
  "language_info": {
   "codemirror_mode": {
    "name": "ipython",
    "version": 3
   },
   "file_extension": ".py",
   "mimetype": "text/x-python",
   "name": "python",
   "nbconvert_exporter": "python",
   "pygments_lexer": "ipython3",
   "version": "3.8.13"
  },
  "orig_nbformat": 4,
  "vscode": {
   "interpreter": {
    "hash": "6cd698982fe8a1411a50998c32fff066b365446a57c43037916d7e5212929cf2"
   }
  }
 },
 "nbformat": 4,
 "nbformat_minor": 2
}
